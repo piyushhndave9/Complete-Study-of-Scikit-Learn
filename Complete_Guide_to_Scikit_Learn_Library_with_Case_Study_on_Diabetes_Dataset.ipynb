{
  "nbformat": 4,
  "nbformat_minor": 0,
  "metadata": {
    "colab": {
      "name": "Complete Guide to Scikit Learn Library with Case Study on Diabetes Dataset.ipynb",
      "provenance": [],
      "collapsed_sections": []
    },
    "kernelspec": {
      "name": "python3",
      "display_name": "Python 3"
    }
  },
  "cells": [
    {
      "cell_type": "markdown",
      "metadata": {
        "id": "RHaWf71GTOlh"
      },
      "source": [
        "#Important Libraries"
      ]
    },
    {
      "cell_type": "code",
      "metadata": {
        "id": "Pcg5dFuXRLLv"
      },
      "source": [
        "import numpy as np \n",
        "import pandas as pd\n",
        "import matplotlib.pyplot as plt\n",
        "import seaborn as sn"
      ],
      "execution_count": null,
      "outputs": []
    },
    {
      "cell_type": "markdown",
      "metadata": {
        "id": "tWV2ZYTITUPB"
      },
      "source": [
        "# Read Data"
      ]
    },
    {
      "cell_type": "code",
      "metadata": {
        "id": "NKSSfnvpRbww"
      },
      "source": [
        "df = pd.read_csv('diabetes.csv')"
      ],
      "execution_count": null,
      "outputs": []
    },
    {
      "cell_type": "code",
      "metadata": {
        "id": "r7kb4ID8Rkoh"
      },
      "source": [
        "df"
      ],
      "execution_count": null,
      "outputs": []
    },
    {
      "cell_type": "markdown",
      "metadata": {
        "id": "sZhDiTOKTW3K"
      },
      "source": [
        "#Explore Data in Depth"
      ]
    },
    {
      "cell_type": "code",
      "metadata": {
        "id": "gBrhZpj6R1DT"
      },
      "source": [
        "df.shape"
      ],
      "execution_count": null,
      "outputs": []
    },
    {
      "cell_type": "code",
      "metadata": {
        "id": "KIrgP6TRR8vp"
      },
      "source": [
        "df.columns"
      ],
      "execution_count": null,
      "outputs": []
    },
    {
      "cell_type": "code",
      "metadata": {
        "id": "sOCoI0DkR2Bn"
      },
      "source": [
        "df.dtypes"
      ],
      "execution_count": null,
      "outputs": []
    },
    {
      "cell_type": "code",
      "metadata": {
        "id": "OSvAKGqQSQBM"
      },
      "source": [
        "df.count()"
      ],
      "execution_count": null,
      "outputs": []
    },
    {
      "cell_type": "code",
      "metadata": {
        "id": "tbnxHi7DSnPU"
      },
      "source": [
        "df.isnull()"
      ],
      "execution_count": null,
      "outputs": []
    },
    {
      "cell_type": "code",
      "metadata": {
        "id": "nFPM9JI_SoG-"
      },
      "source": [
        "df.notnull()"
      ],
      "execution_count": null,
      "outputs": []
    },
    {
      "cell_type": "code",
      "metadata": {
        "id": "5SgnHJWUSSTK"
      },
      "source": [
        "df.isnull().sum()"
      ],
      "execution_count": null,
      "outputs": []
    },
    {
      "cell_type": "code",
      "metadata": {
        "id": "-kjzT2wPRwgI"
      },
      "source": [
        "df.head()"
      ],
      "execution_count": null,
      "outputs": []
    },
    {
      "cell_type": "code",
      "metadata": {
        "id": "07vXblgZRwjh"
      },
      "source": [
        "df.head(10)"
      ],
      "execution_count": null,
      "outputs": []
    },
    {
      "cell_type": "code",
      "metadata": {
        "id": "hsNoOsvLS5LB"
      },
      "source": [
        "df['BMI'].head()"
      ],
      "execution_count": null,
      "outputs": []
    },
    {
      "cell_type": "code",
      "metadata": {
        "id": "2UZLPY1hRwmP"
      },
      "source": [
        "df.tail()"
      ],
      "execution_count": null,
      "outputs": []
    },
    {
      "cell_type": "code",
      "metadata": {
        "id": "zIGTtiBlRwo3"
      },
      "source": [
        "df.tail(10)"
      ],
      "execution_count": null,
      "outputs": []
    },
    {
      "cell_type": "code",
      "metadata": {
        "id": "qCGEEhydSGrR"
      },
      "source": [
        "df.sample()"
      ],
      "execution_count": null,
      "outputs": []
    },
    {
      "cell_type": "code",
      "metadata": {
        "id": "NyD1MS4-SGuo"
      },
      "source": [
        "df.sample(5)"
      ],
      "execution_count": null,
      "outputs": []
    },
    {
      "cell_type": "code",
      "metadata": {
        "id": "kJ1w352YSYLQ"
      },
      "source": [
        "df[0:10]"
      ],
      "execution_count": null,
      "outputs": []
    },
    {
      "cell_type": "code",
      "metadata": {
        "id": "2aXCARC3SMHi"
      },
      "source": [
        "df.info()"
      ],
      "execution_count": null,
      "outputs": []
    },
    {
      "cell_type": "code",
      "metadata": {
        "id": "9VGvNwKYSMK6"
      },
      "source": [
        "df.describe()"
      ],
      "execution_count": null,
      "outputs": []
    },
    {
      "cell_type": "code",
      "metadata": {
        "id": "kT4XIvcmcsWK"
      },
      "source": [
        "df.describe().T"
      ],
      "execution_count": null,
      "outputs": []
    },
    {
      "cell_type": "code",
      "metadata": {
        "id": "c8019bpwSMNx"
      },
      "source": [
        "df['BMI'].value_counts()"
      ],
      "execution_count": null,
      "outputs": []
    },
    {
      "cell_type": "code",
      "metadata": {
        "id": "vjd2hCskZ8ID"
      },
      "source": [
        "df.groupby('Outcome').size()"
      ],
      "execution_count": null,
      "outputs": []
    },
    {
      "cell_type": "markdown",
      "metadata": {
        "id": "ulMeGZAdTbm6"
      },
      "source": [
        "#Visualization of Data"
      ]
    },
    {
      "cell_type": "code",
      "metadata": {
        "id": "V8OuSZCjSMQo"
      },
      "source": [
        "df.hist(figsize = (20,20))"
      ],
      "execution_count": null,
      "outputs": []
    },
    {
      "cell_type": "code",
      "metadata": {
        "id": "-9OSiQmRSMTh"
      },
      "source": [
        "sn.pairplot(df, hue = 'Outcome')"
      ],
      "execution_count": null,
      "outputs": []
    },
    {
      "cell_type": "code",
      "metadata": {
        "id": "dOqd4fTgWMFq"
      },
      "source": [
        "df.corr()"
      ],
      "execution_count": null,
      "outputs": []
    },
    {
      "cell_type": "code",
      "metadata": {
        "id": "Hwtw2XOPRmNH"
      },
      "source": [
        "sn.heatmap(df.corr())"
      ],
      "execution_count": null,
      "outputs": []
    },
    {
      "cell_type": "code",
      "metadata": {
        "id": "z1BZGuWuRmQB"
      },
      "source": [
        "sn.countplot(x='Outcome',data=df)\n",
        "plt.show()"
      ],
      "execution_count": null,
      "outputs": []
    },
    {
      "cell_type": "code",
      "metadata": {
        "id": "XTCsF4H0RmS4"
      },
      "source": [
        "sn.boxplot(x='BMI',data=df)\n",
        "plt.show()"
      ],
      "execution_count": null,
      "outputs": []
    },
    {
      "cell_type": "code",
      "metadata": {
        "id": "E9TTeGDdZy8y"
      },
      "source": [
        "sn.scatterplot(x='BMI', y='Age',data=df)\n",
        "plt.show()"
      ],
      "execution_count": null,
      "outputs": []
    },
    {
      "cell_type": "code",
      "metadata": {
        "id": "6bWtsmk9aIju"
      },
      "source": [
        "sn.distplot(df['Pregnancies'])"
      ],
      "execution_count": null,
      "outputs": []
    },
    {
      "cell_type": "code",
      "metadata": {
        "id": "rCdIcKHmZpsU"
      },
      "source": [
        "sn.jointplot(x='BMI',y='Pregnancies',data=df)"
      ],
      "execution_count": null,
      "outputs": []
    },
    {
      "cell_type": "code",
      "metadata": {
        "id": "2K9iNUKtdsrH"
      },
      "source": [
        "sn.kdeplot(df['BMI'])"
      ],
      "execution_count": null,
      "outputs": []
    },
    {
      "cell_type": "markdown",
      "metadata": {
        "id": "66HVRG_XkZ8L"
      },
      "source": [
        "#Data Cleaning"
      ]
    },
    {
      "cell_type": "code",
      "metadata": {
        "id": "HdkNBfJSd5gy"
      },
      "source": [
        "df.describe()"
      ],
      "execution_count": null,
      "outputs": []
    },
    {
      "cell_type": "markdown",
      "metadata": {
        "id": "MkOLxyq3k-us"
      },
      "source": [
        "Can minimum value of below listed columns be zero (0)?\n",
        "\n",
        "On these columns, a value of zero does not make sense and thus indicates missing value.\n",
        "\n",
        "Following columns or variables have an invalid zero value:\n",
        "\n",
        "#Glucose\n",
        "#BloodPressure\n",
        "#SkinThickness\n",
        "#Insulin\n",
        "#BMI"
      ]
    },
    {
      "cell_type": "markdown",
      "metadata": {
        "id": "dMasMDdClfrA"
      },
      "source": [
        "#It is better to replace zeros with nan since after that counting them would be easier and zeros need to be replaced with suitable values"
      ]
    },
    {
      "cell_type": "code",
      "metadata": {
        "id": "X5bd8hNEd5kC"
      },
      "source": [
        "df_copy = df.copy(deep = True)\n",
        "df_copy[['Glucose','BloodPressure','SkinThickness','Insulin','BMI']]=df_copy[['Glucose','BloodPressure','SkinThickness','Insulin','BMI']].replace(0,np.NaN)"
      ],
      "execution_count": null,
      "outputs": []
    },
    {
      "cell_type": "code",
      "metadata": {
        "id": "ZyPsQ81Ld5nR"
      },
      "source": [
        "df_copy.isnull().sum()"
      ],
      "execution_count": null,
      "outputs": []
    },
    {
      "cell_type": "code",
      "metadata": {
        "id": "25qaiTRXojlc"
      },
      "source": [
        "df_copy.describe()"
      ],
      "execution_count": null,
      "outputs": []
    },
    {
      "cell_type": "code",
      "metadata": {
        "id": "x3kb1yntomvP"
      },
      "source": [
        "df_copy.info()"
      ],
      "execution_count": null,
      "outputs": []
    },
    {
      "cell_type": "code",
      "metadata": {
        "id": "kJsN2BOBRmYf"
      },
      "source": [
        "df_copy['Glucose'].fillna(df_copy['Glucose'].mean(), inplace = True)"
      ],
      "execution_count": null,
      "outputs": []
    },
    {
      "cell_type": "code",
      "metadata": {
        "id": "TpqMzFs2oiqF"
      },
      "source": [
        "df_copy['BloodPressure'].fillna(df_copy['BloodPressure'].mean(), inplace = True)"
      ],
      "execution_count": null,
      "outputs": []
    },
    {
      "cell_type": "code",
      "metadata": {
        "id": "u_3Dy9Q0oitD"
      },
      "source": [
        "df_copy['SkinThickness'].fillna(df_copy['SkinThickness'].median(), inplace = True)"
      ],
      "execution_count": null,
      "outputs": []
    },
    {
      "cell_type": "code",
      "metadata": {
        "id": "SZEWtka8oiwJ"
      },
      "source": [
        "df_copy['Insulin'].fillna(df_copy['Insulin'].median(), inplace = True)"
      ],
      "execution_count": null,
      "outputs": []
    },
    {
      "cell_type": "code",
      "metadata": {
        "id": "Sd0zl5sDoiym"
      },
      "source": [
        "df_copy['BMI'].fillna(df_copy['BMI'].median(), inplace = True)"
      ],
      "execution_count": null,
      "outputs": []
    },
    {
      "cell_type": "code",
      "metadata": {
        "id": "QMq03l3Vu1Se"
      },
      "source": [
        "df_copy.info()"
      ],
      "execution_count": null,
      "outputs": []
    },
    {
      "cell_type": "markdown",
      "metadata": {
        "id": "WyN-EoQH6t5y"
      },
      "source": [
        "If there is a dataset that have great outliers, \n",
        "I'll prefer median. \n",
        "E.x.: 99% of household income is below 100, and 1% is above 500.\n",
        "\n",
        "On the other hand, \n",
        "if we work with wear of clothes that customers give to dry-cleaner \n",
        "(assuming that dry-cleaners' operators fill this field intuitively), \n",
        "I'll fill missings with mean value of wear."
      ]
    },
    {
      "cell_type": "code",
      "metadata": {
        "id": "TSOyIwjWBPOi"
      },
      "source": [
        "sn.boxplot(x='BMI',data=df_copy)\n",
        "plt.show()"
      ],
      "execution_count": null,
      "outputs": []
    },
    {
      "cell_type": "code",
      "metadata": {
        "id": "eJJjgZOm6gJr"
      },
      "source": [
        "df_copy.describe()"
      ],
      "execution_count": null,
      "outputs": []
    },
    {
      "cell_type": "markdown",
      "metadata": {
        "id": "6lA6PJq-A_Jy"
      },
      "source": [
        "#Scaling the data\n",
        "#Outlier!!! The Silent Killer"
      ]
    },
    {
      "cell_type": "code",
      "metadata": {
        "id": "utU2-JcOB6N9"
      },
      "source": [
        "df_copy.columns"
      ],
      "execution_count": null,
      "outputs": []
    },
    {
      "cell_type": "code",
      "metadata": {
        "id": "R1lwXutkBJs1"
      },
      "source": [
        "sn.boxplot(x='Outcome', y='BMI',data=df_copy)\n",
        "plt.show()"
      ],
      "execution_count": null,
      "outputs": []
    },
    {
      "cell_type": "code",
      "metadata": {
        "id": "jdBxgnorA9B6"
      },
      "source": [
        "sn.boxplot(x='Outcome', y='Insulin',data=df_copy)\n",
        "plt.show()"
      ],
      "execution_count": null,
      "outputs": []
    },
    {
      "cell_type": "code",
      "metadata": {
        "id": "3Hd7VagxEooE"
      },
      "source": [
        "from sklearn.preprocessing import StandardScaler\n",
        "scaler = StandardScaler()"
      ],
      "execution_count": null,
      "outputs": []
    },
    {
      "cell_type": "code",
      "metadata": {
        "id": "pGQw2M9cErZb"
      },
      "source": [
        "scaler.fit(df_copy.drop('Outcome',axis=1))"
      ],
      "execution_count": null,
      "outputs": []
    },
    {
      "cell_type": "code",
      "metadata": {
        "id": "un81RRPDNJ20"
      },
      "source": [
        "scaled_features = scaler.transform(df.drop('Outcome',axis=1))"
      ],
      "execution_count": null,
      "outputs": []
    },
    {
      "cell_type": "code",
      "metadata": {
        "id": "TlozEUg6NVPT"
      },
      "source": [
        "scaled_features"
      ],
      "execution_count": null,
      "outputs": []
    },
    {
      "cell_type": "code",
      "metadata": {
        "id": "JXmQExoCNYMs"
      },
      "source": [
        "df_feat = pd.DataFrame(scaled_features,columns=df.columns[:-1])\n",
        "df_feat.head()"
      ],
      "execution_count": null,
      "outputs": []
    },
    {
      "cell_type": "code",
      "metadata": {
        "id": "eyq9akv4O05D"
      },
      "source": [
        "df_feat['Outcome']= df['Outcome']"
      ],
      "execution_count": null,
      "outputs": []
    },
    {
      "cell_type": "code",
      "metadata": {
        "id": "zr_9878-PYWV"
      },
      "source": [
        "df_feat.head()"
      ],
      "execution_count": null,
      "outputs": []
    },
    {
      "cell_type": "code",
      "metadata": {
        "id": "cp30dAG2MPAC"
      },
      "source": [
        "sn.boxplot(x='Outcome',y='Insulin',data=df_feat)\n",
        "plt.show()"
      ],
      "execution_count": null,
      "outputs": []
    },
    {
      "cell_type": "code",
      "metadata": {
        "id": "x9cmbxLNQjKC"
      },
      "source": [
        "sn.boxplot(x='Outcome', y='BMI',data=df_feat)\n",
        "plt.show()"
      ],
      "execution_count": null,
      "outputs": []
    },
    {
      "cell_type": "markdown",
      "metadata": {
        "id": "YVQXenOWSGBx"
      },
      "source": [
        "# Decide Dependant and Independant Elements in Data Set"
      ]
    },
    {
      "cell_type": "code",
      "metadata": {
        "id": "bdssdDD8RO0b"
      },
      "source": [
        "x=df_feat.drop('Outcome',axis=1)"
      ],
      "execution_count": null,
      "outputs": []
    },
    {
      "cell_type": "code",
      "metadata": {
        "id": "nET4MBv9S5_r"
      },
      "source": [
        "x"
      ],
      "execution_count": null,
      "outputs": []
    },
    {
      "cell_type": "code",
      "metadata": {
        "id": "yvP1frqrRv1b"
      },
      "source": [
        "y=df_feat['Outcome']"
      ],
      "execution_count": null,
      "outputs": []
    },
    {
      "cell_type": "code",
      "metadata": {
        "id": "enwc9_oKS2xc"
      },
      "source": [
        "y"
      ],
      "execution_count": null,
      "outputs": []
    },
    {
      "cell_type": "markdown",
      "metadata": {
        "id": "BscNIwGOTDLb"
      },
      "source": [
        "#Train Test Split"
      ]
    },
    {
      "cell_type": "code",
      "metadata": {
        "id": "QqRdieRNTCh8"
      },
      "source": [
        "from sklearn.model_selection import train_test_split"
      ],
      "execution_count": null,
      "outputs": []
    },
    {
      "cell_type": "code",
      "metadata": {
        "id": "iQC-RI-HTKKl"
      },
      "source": [
        "X_train, X_test, y_train, y_test =train_test_split(x,y,test_size=0.3)"
      ],
      "execution_count": null,
      "outputs": []
    },
    {
      "cell_type": "code",
      "metadata": {
        "id": "uVFXcQctTXJ_"
      },
      "source": [
        "X_train.info()"
      ],
      "execution_count": null,
      "outputs": []
    },
    {
      "cell_type": "code",
      "metadata": {
        "id": "NtSvmztITilu"
      },
      "source": [
        "X_test.info()"
      ],
      "execution_count": null,
      "outputs": []
    },
    {
      "cell_type": "markdown",
      "metadata": {
        "id": "yagMFYSwVnMP"
      },
      "source": [
        "#Machine Learning Models\n",
        "\n",
        "1. Linear\n",
        "2. Logistic\n",
        "3. SVC\n",
        "4. KNN\n",
        "5. K Mean\n",
        "6. Desicion Tree\n",
        "7. Random Forest\n",
        "8. Naive Bayes"
      ]
    },
    {
      "cell_type": "markdown",
      "metadata": {
        "id": "CGn-pcwSfauO"
      },
      "source": [
        "#Logistic Regression"
      ]
    },
    {
      "cell_type": "code",
      "metadata": {
        "id": "27_OHG_dUeVE"
      },
      "source": [
        "from sklearn.linear_model import LogisticRegression"
      ],
      "execution_count": null,
      "outputs": []
    },
    {
      "cell_type": "code",
      "metadata": {
        "id": "e9GHG6ZFUnMk"
      },
      "source": [
        "logmodel = LogisticRegression() "
      ],
      "execution_count": null,
      "outputs": []
    },
    {
      "cell_type": "code",
      "metadata": {
        "id": "WdgqVUljUnQO"
      },
      "source": [
        "logmodel.fit(X_train,y_train)"
      ],
      "execution_count": null,
      "outputs": []
    },
    {
      "cell_type": "code",
      "metadata": {
        "id": "_ZLCL2HdUnU8"
      },
      "source": [
        "predictions = logmodel.predict(X_test)"
      ],
      "execution_count": null,
      "outputs": []
    },
    {
      "cell_type": "code",
      "metadata": {
        "id": "Wvueu5HEUv3I"
      },
      "source": [
        "from sklearn.metrics import classification_report"
      ],
      "execution_count": null,
      "outputs": []
    },
    {
      "cell_type": "code",
      "metadata": {
        "id": "yiOdUDxNU6D1"
      },
      "source": [
        "print(classification_report(y_test,predictions))"
      ],
      "execution_count": null,
      "outputs": []
    },
    {
      "cell_type": "code",
      "metadata": {
        "id": "o3zNmBYdU8BV"
      },
      "source": [
        "from sklearn.metrics import confusion_matrix"
      ],
      "execution_count": null,
      "outputs": []
    },
    {
      "cell_type": "code",
      "metadata": {
        "id": "snb_N5q0VWXs"
      },
      "source": [
        "print(confusion_matrix(y_test,predictions))"
      ],
      "execution_count": null,
      "outputs": []
    },
    {
      "cell_type": "markdown",
      "metadata": {
        "id": "Lj0hH3uBj2lK"
      },
      "source": [
        "#SMV"
      ]
    },
    {
      "cell_type": "code",
      "metadata": {
        "id": "XbBrUNzjjw49"
      },
      "source": [
        "from sklearn.svm import SVC"
      ],
      "execution_count": null,
      "outputs": []
    },
    {
      "cell_type": "code",
      "metadata": {
        "id": "R1AFNn9Bjw4-"
      },
      "source": [
        "SVM = SVC() "
      ],
      "execution_count": null,
      "outputs": []
    },
    {
      "cell_type": "code",
      "metadata": {
        "id": "pIl6AIJejw4-"
      },
      "source": [
        "SVM.fit(X_train,y_train)"
      ],
      "execution_count": null,
      "outputs": []
    },
    {
      "cell_type": "code",
      "metadata": {
        "id": "w9LNdo98jw4-"
      },
      "source": [
        "predictions = SVM.predict(X_test)"
      ],
      "execution_count": null,
      "outputs": []
    },
    {
      "cell_type": "code",
      "metadata": {
        "id": "q6leMoaojw4-"
      },
      "source": [
        "from sklearn.metrics import classification_report"
      ],
      "execution_count": null,
      "outputs": []
    },
    {
      "cell_type": "code",
      "metadata": {
        "id": "ED7V-HEBjw4-"
      },
      "source": [
        "print(classification_report(y_test,predictions))"
      ],
      "execution_count": null,
      "outputs": []
    },
    {
      "cell_type": "code",
      "metadata": {
        "id": "SFla9RRzjw4-"
      },
      "source": [
        "from sklearn.metrics import confusion_matrix"
      ],
      "execution_count": null,
      "outputs": []
    },
    {
      "cell_type": "code",
      "metadata": {
        "id": "lENeduiAjw4-"
      },
      "source": [
        "print(confusion_matrix(y_test,predictions))"
      ],
      "execution_count": null,
      "outputs": []
    },
    {
      "cell_type": "markdown",
      "metadata": {
        "id": "AAl1xAbvux2U"
      },
      "source": [
        "#KNN"
      ]
    },
    {
      "cell_type": "code",
      "metadata": {
        "id": "o0CiCoYajx-Z"
      },
      "source": [
        "from sklearn.neighbors import KNeighborsClassifier"
      ],
      "execution_count": null,
      "outputs": []
    },
    {
      "cell_type": "code",
      "metadata": {
        "id": "eer_68P2jx-Z"
      },
      "source": [
        "knn = KNeighborsClassifier() "
      ],
      "execution_count": null,
      "outputs": []
    },
    {
      "cell_type": "code",
      "metadata": {
        "id": "quwJUbDejx-Z"
      },
      "source": [
        "knn.fit(X_train,y_train)"
      ],
      "execution_count": null,
      "outputs": []
    },
    {
      "cell_type": "code",
      "metadata": {
        "id": "mjuWV6V0jx-Z"
      },
      "source": [
        "predictions = knn.predict(X_test)"
      ],
      "execution_count": null,
      "outputs": []
    },
    {
      "cell_type": "code",
      "metadata": {
        "id": "fvUk79evjx-Z"
      },
      "source": [
        "from sklearn.metrics import classification_report"
      ],
      "execution_count": null,
      "outputs": []
    },
    {
      "cell_type": "code",
      "metadata": {
        "id": "HL5h-RUJjx-Z"
      },
      "source": [
        "print(classification_report(y_test,predictions))"
      ],
      "execution_count": null,
      "outputs": []
    },
    {
      "cell_type": "code",
      "metadata": {
        "id": "CsHKHQNGjx-Z"
      },
      "source": [
        "from sklearn.metrics import confusion_matrix"
      ],
      "execution_count": null,
      "outputs": []
    },
    {
      "cell_type": "code",
      "metadata": {
        "id": "0FQ_AqkKjx-Z"
      },
      "source": [
        "print(confusion_matrix(y_test,predictions))"
      ],
      "execution_count": null,
      "outputs": []
    },
    {
      "cell_type": "markdown",
      "metadata": {
        "id": "fG2wJMwiuu89"
      },
      "source": [
        "#K Mean"
      ]
    },
    {
      "cell_type": "code",
      "metadata": {
        "id": "vyXPIRm_jyn5"
      },
      "source": [
        "from sklearn.cluster import KMeans"
      ],
      "execution_count": null,
      "outputs": []
    },
    {
      "cell_type": "code",
      "metadata": {
        "id": "JttC76eIjyn5"
      },
      "source": [
        "Kmean = KMeans(n_clusters=2)"
      ],
      "execution_count": null,
      "outputs": []
    },
    {
      "cell_type": "code",
      "metadata": {
        "id": "ypvE9IdOjyn5"
      },
      "source": [
        "Kmean.fit(X_train,y_train)"
      ],
      "execution_count": null,
      "outputs": []
    },
    {
      "cell_type": "code",
      "metadata": {
        "id": "MpZfWtLQjyn5"
      },
      "source": [
        "predictions = Kmean.predict(X_test)"
      ],
      "execution_count": null,
      "outputs": []
    },
    {
      "cell_type": "code",
      "metadata": {
        "id": "V_avcN6Wjyn5"
      },
      "source": [
        "from sklearn.metrics import classification_report"
      ],
      "execution_count": null,
      "outputs": []
    },
    {
      "cell_type": "code",
      "metadata": {
        "id": "QKEp15n-jyn5"
      },
      "source": [
        "print(classification_report(y_test,predictions))"
      ],
      "execution_count": null,
      "outputs": []
    },
    {
      "cell_type": "code",
      "metadata": {
        "id": "gMJdvFdGjyn5"
      },
      "source": [
        "from sklearn.metrics import confusion_matrix"
      ],
      "execution_count": null,
      "outputs": []
    },
    {
      "cell_type": "code",
      "metadata": {
        "id": "1v6r9kXqjyn6"
      },
      "source": [
        "print(confusion_matrix(y_test,predictions))"
      ],
      "execution_count": null,
      "outputs": []
    },
    {
      "cell_type": "markdown",
      "metadata": {
        "id": "bC_8NUXSvu_8"
      },
      "source": [
        "#Decision Tree"
      ]
    },
    {
      "cell_type": "code",
      "metadata": {
        "id": "FZJXt5aIjzTU"
      },
      "source": [
        "from sklearn.tree import DecisionTreeClassifier"
      ],
      "execution_count": null,
      "outputs": []
    },
    {
      "cell_type": "code",
      "metadata": {
        "id": "c8V4nmGgjzTU"
      },
      "source": [
        "dtree = DecisionTreeClassifier()"
      ],
      "execution_count": null,
      "outputs": []
    },
    {
      "cell_type": "code",
      "metadata": {
        "id": "mQMAn0kJjzTU"
      },
      "source": [
        "dtree.fit(X_train,y_train)"
      ],
      "execution_count": null,
      "outputs": []
    },
    {
      "cell_type": "code",
      "metadata": {
        "id": "gzC3W13BjzTU"
      },
      "source": [
        "predictions = dtree.predict(X_test)"
      ],
      "execution_count": null,
      "outputs": []
    },
    {
      "cell_type": "code",
      "metadata": {
        "id": "a-VBqV95jzTU"
      },
      "source": [
        "from sklearn.metrics import classification_report"
      ],
      "execution_count": null,
      "outputs": []
    },
    {
      "cell_type": "code",
      "metadata": {
        "id": "B7SOaU0FjzTV"
      },
      "source": [
        "print(classification_report(y_test,predictions))"
      ],
      "execution_count": null,
      "outputs": []
    },
    {
      "cell_type": "code",
      "metadata": {
        "id": "PwzmgkABjzTV"
      },
      "source": [
        "from sklearn.metrics import confusion_matrix"
      ],
      "execution_count": null,
      "outputs": []
    },
    {
      "cell_type": "code",
      "metadata": {
        "id": "a54TSBN-jzTV"
      },
      "source": [
        "print(confusion_matrix(y_test,predictions))"
      ],
      "execution_count": null,
      "outputs": []
    },
    {
      "cell_type": "markdown",
      "metadata": {
        "id": "ypths3mywEjw"
      },
      "source": [
        "#Random Forest"
      ]
    },
    {
      "cell_type": "code",
      "metadata": {
        "id": "vb9bqV21wZmo"
      },
      "source": [
        "from sklearn.ensemble import RandomForestClassifier"
      ],
      "execution_count": null,
      "outputs": []
    },
    {
      "cell_type": "code",
      "metadata": {
        "id": "Bt79GANrwZmp"
      },
      "source": [
        "rfc = RandomForestClassifier(n_estimators=100)"
      ],
      "execution_count": null,
      "outputs": []
    },
    {
      "cell_type": "code",
      "metadata": {
        "id": "hR8m1UWCwZmp"
      },
      "source": [
        "rfc.fit(X_train,y_train)"
      ],
      "execution_count": null,
      "outputs": []
    },
    {
      "cell_type": "code",
      "metadata": {
        "id": "pv2MNwe5wZmp"
      },
      "source": [
        "predictions = rfc.predict(X_test)"
      ],
      "execution_count": null,
      "outputs": []
    },
    {
      "cell_type": "code",
      "metadata": {
        "id": "yNVkREqiwZmp"
      },
      "source": [
        "from sklearn.metrics import classification_report"
      ],
      "execution_count": null,
      "outputs": []
    },
    {
      "cell_type": "code",
      "metadata": {
        "id": "EBIy622jwZmp"
      },
      "source": [
        "print(classification_report(y_test,predictions))"
      ],
      "execution_count": null,
      "outputs": []
    },
    {
      "cell_type": "code",
      "metadata": {
        "id": "vQJ6Zva7wZmp"
      },
      "source": [
        "from sklearn.metrics import confusion_matrix"
      ],
      "execution_count": null,
      "outputs": []
    },
    {
      "cell_type": "code",
      "metadata": {
        "id": "nmFH8jqLwZmp"
      },
      "source": [
        "print(confusion_matrix(y_test,predictions))"
      ],
      "execution_count": null,
      "outputs": []
    },
    {
      "cell_type": "markdown",
      "metadata": {
        "id": "YRt_uXRge7e6"
      },
      "source": [
        "#Naive Bayes"
      ]
    },
    {
      "cell_type": "code",
      "metadata": {
        "id": "_t3r-oJ6ePtg"
      },
      "source": [
        "from sklearn.naive_bayes import GaussianNB"
      ],
      "execution_count": null,
      "outputs": []
    },
    {
      "cell_type": "code",
      "metadata": {
        "id": "68Xv1gKDeRts"
      },
      "source": [
        " NB= GaussianNB() "
      ],
      "execution_count": null,
      "outputs": []
    },
    {
      "cell_type": "code",
      "metadata": {
        "id": "UJMEwf-3epPe"
      },
      "source": [
        "NB.fit(X_train,y_train)"
      ],
      "execution_count": null,
      "outputs": []
    },
    {
      "cell_type": "code",
      "metadata": {
        "id": "Y0no6yCkesGh"
      },
      "source": [
        "predictions = NB.predict(X_test)"
      ],
      "execution_count": null,
      "outputs": []
    },
    {
      "cell_type": "code",
      "metadata": {
        "id": "88ZlnanBe2MX"
      },
      "source": [
        "from sklearn.metrics import classification_report"
      ],
      "execution_count": null,
      "outputs": []
    },
    {
      "cell_type": "code",
      "metadata": {
        "id": "9tjDx975e2MY"
      },
      "source": [
        "print(classification_report(y_test,predictions))"
      ],
      "execution_count": null,
      "outputs": []
    },
    {
      "cell_type": "code",
      "metadata": {
        "id": "ZqofroMje2MY"
      },
      "source": [
        "from sklearn.metrics import confusion_matrix"
      ],
      "execution_count": null,
      "outputs": []
    },
    {
      "cell_type": "code",
      "metadata": {
        "id": "3B0r9oWNe2MY"
      },
      "source": [
        "print(confusion_matrix(y_test,predictions))"
      ],
      "execution_count": null,
      "outputs": []
    },
    {
      "cell_type": "markdown",
      "metadata": {
        "id": "eLIGh4h3xL0I"
      },
      "source": [
        "#Linear Regression"
      ]
    },
    {
      "cell_type": "code",
      "metadata": {
        "id": "rGaAnXtkxNmI"
      },
      "source": [
        "from sklearn.linear_model import LinearRegression"
      ],
      "execution_count": null,
      "outputs": []
    },
    {
      "cell_type": "code",
      "metadata": {
        "id": "WjQcH5ZhxRQ_"
      },
      "source": [
        "lm = LinearRegression()"
      ],
      "execution_count": null,
      "outputs": []
    },
    {
      "cell_type": "markdown",
      "metadata": {
        "id": "dNDlmPQuxYSL"
      },
      "source": [
        "# cannot apply Linear Regression to this Data"
      ]
    },
    {
      "cell_type": "markdown",
      "metadata": {
        "id": "AXsfRVuXisdB"
      },
      "source": [
        "#Linear Discriminant Analysis"
      ]
    },
    {
      "cell_type": "code",
      "metadata": {
        "id": "cuH94JjEirJR"
      },
      "source": [
        "from sklearn.discriminant_analysis import LinearDiscriminantAnalysis"
      ],
      "execution_count": null,
      "outputs": []
    },
    {
      "cell_type": "code",
      "metadata": {
        "id": "B9ScBH_xirJS"
      },
      "source": [
        "LDA = LinearDiscriminantAnalysis() "
      ],
      "execution_count": null,
      "outputs": []
    },
    {
      "cell_type": "code",
      "metadata": {
        "id": "wH8_83hSirJS"
      },
      "source": [
        "LDA.fit(X_train,y_train)"
      ],
      "execution_count": null,
      "outputs": []
    },
    {
      "cell_type": "code",
      "metadata": {
        "id": "xl_-4hZyirJS"
      },
      "source": [
        "predictions = LDA.predict(X_test)"
      ],
      "execution_count": null,
      "outputs": []
    },
    {
      "cell_type": "code",
      "metadata": {
        "id": "-gUO86ihirJS"
      },
      "source": [
        "from sklearn.metrics import classification_report"
      ],
      "execution_count": null,
      "outputs": []
    },
    {
      "cell_type": "code",
      "metadata": {
        "id": "1n2hCRoeirJS"
      },
      "source": [
        "print(classification_report(y_test,predictions))"
      ],
      "execution_count": null,
      "outputs": []
    },
    {
      "cell_type": "code",
      "metadata": {
        "id": "BqJiYZvgirJS"
      },
      "source": [
        "from sklearn.metrics import confusion_matrix"
      ],
      "execution_count": null,
      "outputs": []
    },
    {
      "cell_type": "code",
      "metadata": {
        "id": "GKA52_IhirJS"
      },
      "source": [
        "print(confusion_matrix(y_test,predictions))"
      ],
      "execution_count": null,
      "outputs": []
    }
  ]
}